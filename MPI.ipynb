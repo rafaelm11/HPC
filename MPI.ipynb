{
  "nbformat": 4,
  "nbformat_minor": 0,
  "metadata": {
    "colab": {
      "provenance": [],
      "collapsed_sections": [
        "YSNRdYwZnFGf",
        "SN3PZmQa7K_a",
        "HFY-NFxR7YvP",
        "NE5RimnE4z1p",
        "_niFMZxb5UG2",
        "7LFf17ywncAY"
      ]
    },
    "kernelspec": {
      "name": "python3",
      "display_name": "Python 3"
    },
    "language_info": {
      "name": "python"
    }
  },
  "cells": [
    {
      "cell_type": "markdown",
      "source": [
        "## MPI"
      ],
      "metadata": {
        "id": "0XroL_plztNL"
      }
    },
    {
      "cell_type": "markdown",
      "source": [
        "### Подготовка среды\n",
        "Установка необходимых библиотек для работы MPI"
      ],
      "metadata": {
        "id": "VqLKO0v3C5WM"
      }
    },
    {
      "cell_type": "code",
      "source": [
        "#!sudo apt install libopenmpi-dev\n",
        "!pip install mpi4py"
      ],
      "metadata": {
        "colab": {
          "base_uri": "https://localhost:8080/"
        },
        "id": "Gi9rN0AW0dD0",
        "outputId": "63eec7b7-ce08-4cc6-ed65-d916e6ae83a5"
      },
      "execution_count": null,
      "outputs": [
        {
          "output_type": "stream",
          "name": "stdout",
          "text": [
            "Collecting mpi4py\n",
            "  Downloading mpi4py-3.1.6.tar.gz (2.4 MB)\n",
            "\u001b[2K     \u001b[90m━━━━━━━━━━━━━━━━━━━━━━━━━━━━━━━━━━━━━━━━\u001b[0m \u001b[32m2.4/2.4 MB\u001b[0m \u001b[31m9.1 MB/s\u001b[0m eta \u001b[36m0:00:00\u001b[0m\n",
            "\u001b[?25h  Installing build dependencies ... \u001b[?25l\u001b[?25hdone\n",
            "  Getting requirements to build wheel ... \u001b[?25l\u001b[?25hdone\n",
            "  Preparing metadata (pyproject.toml) ... \u001b[?25l\u001b[?25hdone\n",
            "Building wheels for collected packages: mpi4py\n",
            "  Building wheel for mpi4py (pyproject.toml) ... \u001b[?25l\u001b[?25hdone\n",
            "  Created wheel for mpi4py: filename=mpi4py-3.1.6-cp310-cp310-linux_x86_64.whl size=2746305 sha256=783b764a64fb3366a8c45687731472dfe2a10dcbfe7792bd88a121d23c9f97d1\n",
            "  Stored in directory: /root/.cache/pip/wheels/4c/ca/89/8fc1fb1c620afca13bb41c630b1f948bbf446e0aaa4b762e10\n",
            "Successfully built mpi4py\n",
            "Installing collected packages: mpi4py\n",
            "Successfully installed mpi4py-3.1.6\n"
          ]
        }
      ]
    },
    {
      "cell_type": "markdown",
      "source": [
        "### №15\n",
        "Коллективное взаимодействие через широковещательный обмен - функция Bcast, при помощи функции разброса scatter, при помощи функции получения gather Bcast Выполнить задание по вариантам.  \n",
        "\n",
        "Вариант I: Напишите программу на Python, используя модуль mpi4py, которая создает словарь данных на процессе с рангом 0 и затем распространяет эти данные на все остальные процессы с помощью функции comm.bcast. Словарь должен содержать два ключа: ‘key1’ и ‘key2’. ‘key1’ должен быть связан со списком, содержащим три элемента: целое число, вещественное число и комплексное число. ‘key2’ должен быть связан с кортежем, содержащим две строки. После получения данных каждый процесс должен выводить свой ранг и полученные данные."
      ],
      "metadata": {
        "id": "uV82NJpI1UAF"
      }
    },
    {
      "cell_type": "code",
      "source": [
        "%%writefile ex15.py\n",
        "from mpi4py import MPI\n",
        "\n",
        "\n",
        "def main():\n",
        "  comm = MPI.COMM_WORLD\n",
        "  rank = comm.rank\n",
        "  if rank == 0:\n",
        "    data = {'key1': [42, 9.81, complex(3, 4)],\n",
        "            'key2': ('строка 1', 'строка 2')}\n",
        "  else:\n",
        "    data = None\n",
        "  data = comm.bcast(data, root=0)\n",
        "  print('rank', rank, data)\n",
        "main()"
      ],
      "metadata": {
        "colab": {
          "base_uri": "https://localhost:8080/"
        },
        "id": "0GbKrE9glCHW",
        "outputId": "e7224029-e5f4-443c-ce4a-6aaa982dc5c3"
      },
      "execution_count": null,
      "outputs": [
        {
          "output_type": "stream",
          "name": "stdout",
          "text": [
            "Writing ex15.py\n"
          ]
        }
      ]
    },
    {
      "cell_type": "code",
      "source": [
        "!mpirun --allow-run-as-root --oversubscribe -np 8 python /content/ex15.py"
      ],
      "metadata": {
        "id": "_mDvaQcUmc4m",
        "colab": {
          "base_uri": "https://localhost:8080/"
        },
        "outputId": "6f3715ad-3585-4b09-9aa0-d06c916decc1"
      },
      "execution_count": null,
      "outputs": [
        {
          "output_type": "stream",
          "name": "stdout",
          "text": [
            "rank 0 {'key1': [42, 9.81, (3+4j)], 'key2': ('строка 1', 'строка 2')}\n",
            "rank 4 {'key1': [42, 9.81, (3+4j)], 'key2': ('строка 1', 'строка 2')}\n",
            "rank 5 {'key1': [42, 9.81, (3+4j)], 'key2': ('строка 1', 'строка 2')}\n",
            "rank 7 {'key1': [42, 9.81, (3+4j)], 'key2': ('строка 1', 'строка 2')}\n",
            "rank 1 {'key1': [42, 9.81, (3+4j)], 'key2': ('строка 1', 'строка 2')}\n",
            "rank 2 {'key1': [42, 9.81, (3+4j)], 'key2': ('строка 1', 'строка 2')}\n",
            "rank 3 {'key1': [42, 9.81, (3+4j)], 'key2': ('строка 1', 'строка 2')}\n",
            "rank 6 {'key1': [42, 9.81, (3+4j)], 'key2': ('строка 1', 'строка 2')}\n"
          ]
        }
      ]
    },
    {
      "cell_type": "markdown",
      "source": [
        "### №16\n",
        "Вариант II: Напишите программу на Python, используя модуль mpi4py, которая запрашивает у пользователя ввод серии целых чисел на процессе с рангом 0, а затем распространяет этот ввод на все остальные процессы с помощью функции comm.bcast. Ввод пользователя должен быть целым числом. После получения ввода каждый процесс должен выводить свой ранг и полученный ввод. Убедитесь, что запрос на ввод числа отображается на русском языке."
      ],
      "metadata": {
        "id": "1ckEMmcwDZYb"
      }
    },
    {
      "cell_type": "code",
      "source": [
        "%%writefile ex16.py\n",
        "from mpi4py import MPI\n",
        "\n",
        "\n",
        "def main():\n",
        "  comm = MPI.COMM_WORLD\n",
        "  rank = comm.rank\n",
        "  if rank == 0:\n",
        "    try:\n",
        "      raw_nums = input(\"Введите список чисел, разделенных пробелом: \").split()\n",
        "      data = list(map(int, raw_nums))\n",
        "      #raise KeyboardInterrupt\n",
        "    except:\n",
        "      print('Конец ввода!')\n",
        "  else:\n",
        "    data = None\n",
        "  data = comm.bcast(data, root=0)\n",
        "  print('rank', rank, data)\n",
        "main()"
      ],
      "metadata": {
        "id": "yn9Uf3BkDnJB",
        "colab": {
          "base_uri": "https://localhost:8080/"
        },
        "outputId": "68704368-a71d-4d86-ed21-4228f92aa4d1"
      },
      "execution_count": null,
      "outputs": [
        {
          "output_type": "stream",
          "name": "stdout",
          "text": [
            "Overwriting ex16.py\n"
          ]
        }
      ]
    },
    {
      "cell_type": "code",
      "source": [
        "!mpirun --allow-run-as-root --oversubscribe -np 8 python /content/ex16.py"
      ],
      "metadata": {
        "colab": {
          "base_uri": "https://localhost:8080/"
        },
        "collapsed": true,
        "id": "WAZQ9frmrt33",
        "outputId": "243b1be6-0099-4cf6-a7e8-176a57dc2ec3"
      },
      "execution_count": null,
      "outputs": [
        {
          "output_type": "stream",
          "name": "stdout",
          "text": [
            "23\n",
            "45\n",
            "3\n",
            "4\n",
            "q\n",
            "q\n",
            "q\n",
            "Traceback (most recent call last):\n",
            "  File \"/content/ex16.py\", line 26, in <module>\n",
            "    main()\n",
            "  File \"/content/ex16.py\", line 24, in main\n",
            "    data = comm.bcast(data, root=0)\n",
            "UnboundLocalError: local variable 'data' referenced before assignment\n"
          ]
        }
      ]
    },
    {
      "cell_type": "code",
      "source": [
        "raw_nums = input(\"Введите список чисел, разделенных пробелом: \").split()\n",
        "data = list(map(int, raw_nums))\n",
        "print(data)"
      ],
      "metadata": {
        "colab": {
          "base_uri": "https://localhost:8080/"
        },
        "id": "8mY7L2HruE9u",
        "outputId": "a71605e2-5be1-480a-a72e-de0d5466ae2e"
      },
      "execution_count": null,
      "outputs": [
        {
          "output_type": "stream",
          "name": "stdout",
          "text": [
            "Writing test\n"
          ]
        }
      ]
    }
  ]
}